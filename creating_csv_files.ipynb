{
 "cells": [
  {
   "cell_type": "markdown",
   "source": [
    "# CREATING CSV FILE - SANS IMAGE SEGMENTATION"
   ],
   "metadata": {
    "collapsed": false
   }
  },
  {
   "cell_type": "markdown",
   "source": [
    "CREATE TRAINING CSV FILE"
   ],
   "metadata": {
    "collapsed": false
   }
  },
  {
   "cell_type": "code",
   "execution_count": null,
   "metadata": {
    "collapsed": true
   },
   "outputs": [],
   "source": [
    "# import from_geojson_to_csv_sans_segmentation as conv\n",
    "import from_geojson_to_csv_sans_segmentation as conv\n",
    "\n",
    "# CREATE CSV FILE FOR TRAINING FROM IMAGE AND GEOJSON FILE\n",
    "conv.here_we_go(\"GeneralBounding1.geojson\", \"fcode_genbound1_for_train3-sansBoxes.tif\", \"general_train1.csv\", \"fcode\", \"Tree\")\n"
   ]
  },
  {
   "cell_type": "markdown",
   "source": [
    "CREATE VALIDATION CSV FILE"
   ],
   "metadata": {
    "collapsed": false
   }
  },
  {
   "cell_type": "code",
   "execution_count": null,
   "outputs": [],
   "source": [
    "# import from_geojson_to_csv_sans_segmentation as conv\n",
    "import from_geojson_to_csv_sans_segmentation as conv\n",
    "\n",
    "# CREATE CSV FILE FOR VALIDATION FROM IMAGE AND GEOJSON FILE\n",
    "conv.here_we_go(\"FairFewBoundingBoxes.geojson\", \"fcode_fairfew_general_for_val1-sansBoxes.tif\", \"multi_val1.csv\", \"fcode\", \"Tree\")\n"
   ],
   "metadata": {
    "collapsed": false
   }
  },
  {
   "cell_type": "markdown",
   "source": [
    "# CREATING CSV FILE - AVEC IMAGE SEGMENTATION"
   ],
   "metadata": {
    "collapsed": false
   }
  },
  {
   "cell_type": "code",
   "execution_count": null,
   "outputs": [],
   "source": [],
   "metadata": {
    "collapsed": false
   }
  }
 ],
 "metadata": {
  "kernelspec": {
   "display_name": "Python 3",
   "language": "python",
   "name": "python3"
  },
  "language_info": {
   "codemirror_mode": {
    "name": "ipython",
    "version": 2
   },
   "file_extension": ".py",
   "mimetype": "text/x-python",
   "name": "python",
   "nbconvert_exporter": "python",
   "pygments_lexer": "ipython2",
   "version": "2.7.6"
  }
 },
 "nbformat": 4,
 "nbformat_minor": 0
}
