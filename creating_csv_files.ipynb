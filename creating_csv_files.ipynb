{
 "cells": [
  {
   "cell_type": "markdown",
   "source": [
    "# CREATING CSV FILE - SANS IMAGE SEGMENTATION"
   ],
   "metadata": {
    "collapsed": false
   }
  },
  {
   "cell_type": "markdown",
   "source": [
    "CREATE TRAINING CSV FILE"
   ],
   "metadata": {
    "collapsed": false
   }
  },
  {
   "cell_type": "code",
   "execution_count": null,
   "metadata": {
    "collapsed": true
   },
   "outputs": [],
   "source": [
    "# import from_geojson_to_csv_sans_segmentation as conv\n",
    "import from_geojson_to_csv_sans_segmentation as conv\n",
    "\n",
    "# CREATE CSV FILE FOR TRAINING FROM IMAGE AND GEOJSON FILE\n",
    "conv.here_we_go(\"OakBounding1-Updated.geojson\", \"OakBoundingBoxes1-sansBoxes.tif\", \"oak_train1.csv\", \"fcode\", \"Oak\")\n"
   ]
  },
  {
   "cell_type": "markdown",
   "source": [
    "CREATE VALIDATION CSV FILE"
   ],
   "metadata": {
    "collapsed": false
   }
  },
  {
   "cell_type": "code",
   "execution_count": null,
   "outputs": [],
   "source": [
    "# import from_geojson_to_csv_sans_segmentation as conv\n",
    "import from_geojson_to_csv_sans_segmentation as conv\n",
    "\n",
    "# CREATE CSV FILE FOR VALIDATION FROM IMAGE AND GEOJSON FILE\n",
    "conv.here_we_go(\"FairFewBoundingBoxes.geojson\", \"fcode_fairfew_general_for_val1-sansBoxes.tif\", \"multi_val1.csv\", \"fcode\", \"Tree\")\n"
   ],
   "metadata": {
    "collapsed": false
   }
  },
  {
   "cell_type": "markdown",
   "source": [
    "CREATE TESTING CSV FILE"
   ],
   "metadata": {
    "collapsed": false
   }
  },
  {
   "cell_type": "code",
   "execution_count": null,
   "outputs": [],
   "source": [
    "import from_geojson_to_csv_sans_segmentation as conv\n",
    "\n",
    "conv.here_we_go(\"general_trees_testing_coords.geojson\", \"fcode_GenForTesting_for_test1-sansBoxes-CROPPED.tif\", \"test1.csv\", \"fcode\", \"Tree\")\n"
   ],
   "metadata": {
    "collapsed": false
   }
  },
  {
   "cell_type": "markdown",
   "source": [
    "# CHANGING IMAGE BANDS FROM 4 TO 3"
   ],
   "metadata": {
    "collapsed": false
   }
  },
  {
   "cell_type": "code",
   "execution_count": null,
   "outputs": [],
   "source": [
    "from rasterio import DatasetReader\n",
    "import rasterio\n",
    "\n",
    "raster = \"fcode_genbound1_for_train3-sansBoxes.tif\"\n",
    "src = rasterio.open(raster)\n",
    "src.read().shape\n",
    "\n"
   ],
   "metadata": {
    "collapsed": false
   }
  },
  {
   "cell_type": "code",
   "execution_count": null,
   "outputs": [],
   "source": [
    "import numpy as np\n",
    "from PIL import Image\n",
    "\n",
    "src1 = rasterio.open(\"D:\\CODING\\CreateCsvBounding\\\\fcode_genbound1_for_train3-sansBoxes.tif\")\n",
    "numpy_image = src1.read()\n",
    "numpy_image = np.moveaxis(numpy_image, 0, 2)\n",
    "\n",
    "numpy_image = numpy_image[:,:,:3].astype(\"uint8\")\n",
    "image = Image.fromarray(numpy_image)\n",
    "image.save(\"fcode_genbound1_for_train3-sansBoxes.tif\")\n"
   ],
   "metadata": {
    "collapsed": false
   }
  },
  {
   "cell_type": "code",
   "execution_count": null,
   "outputs": [],
   "source": [
    "raster1 = \"fcode_genbound1_for_train3-sansBoxes.tif\"\n",
    "src = rasterio.open(raster1)\n",
    "src.read().shape\n"
   ],
   "metadata": {
    "collapsed": false
   }
  }
 ],
 "metadata": {
  "kernelspec": {
   "display_name": "Python 3",
   "language": "python",
   "name": "python3"
  },
  "language_info": {
   "codemirror_mode": {
    "name": "ipython",
    "version": 2
   },
   "file_extension": ".py",
   "mimetype": "text/x-python",
   "name": "python",
   "nbconvert_exporter": "python",
   "pygments_lexer": "ipython2",
   "version": "2.7.6"
  }
 },
 "nbformat": 4,
 "nbformat_minor": 0
}
