{
 "cells": [
  {
   "cell_type": "code",
   "execution_count": null,
   "metadata": {
    "collapsed": true
   },
   "outputs": [],
   "source": [
    "import from_geojson_to_csv as fae\n",
    "\n",
    "# CREATE CSV FILE FOR TRAINING FROM IMAGE AND GEOJSON FILE\n",
    "fae.here_we_go(\"Tree_Labels.geojson\", \"shouldbeworking2-sansBoxes.tif\", \"bounding_shouldbeworking2.csv\")\n",
    "# TODO: How to save csv in Data package instead of in objectdetect package?\n",
    "#  todo: Maybe changing root_dir to Data will work?\n"
   ]
  },
  {
   "cell_type": "code",
   "execution_count": null,
   "outputs": [],
   "source": [
    "import from_geojson_to_csv as fae\n",
    "\n",
    "# CREATE CSV FILE FOR VALIDATION FROM IMAGE AND GEOJSON FILE\n",
    "fae.here_we_go(\"Tree_Labels.geojson\", \"toValidate.tif\", \"bounding_toValidate.csv\")\n"
   ],
   "metadata": {
    "collapsed": false
   }
  },
  {
   "cell_type": "code",
   "execution_count": null,
   "outputs": [],
   "source": [
    "# CHECK THE GEO-COORDINATES OF THE IMAGE BOUNDARIES\n",
    "import from_geojson_to_csv as fae\n",
    "\n",
    "img = \"\"\n",
    "xmin, xmax, ymax, ymin = fae.get_geo_coords_boundaries(img)"
   ],
   "metadata": {
    "collapsed": false
   }
  },
  {
   "cell_type": "code",
   "execution_count": null,
   "outputs": [],
   "source": [
    "# TODO: Should I just print the height and width?\n",
    "import rasterio as rio\n",
    "# CHECK THE HEIGHT AND WIDTH OF IMAGE IN PIXELS\n",
    "the_image = rio.open(\"\")\n",
    "img_width_px = the_image.width  # Width of image in pixels\n",
    "img_height_px = the_image.height  # Height of image in pixels\n"
   ],
   "metadata": {
    "collapsed": false
   }
  },
  {
   "cell_type": "code",
   "execution_count": null,
   "outputs": [],
   "source": [
    "# CHECK THAT ALL BOUNDING BOXES ARE WITHIN GEO-COORDINATES OF IMAGE\n",
    "import from_geojson_to_csv as fae\n",
    "\n",
    "csv_file = \"C:\\\\Users\\kb_f5\\Documents\\Coding\\CreateCsvBounding\\\\bounding_shouldbeworking2.csv\"\n",
    "img_file = \"C:\\\\Users\\kb_f5\\Documents\\Coding\\CreateCsvBounding\\shouldbeworking2-sansBoxes.tif\"\n",
    "is_within_bounds = fae.check_bboxes_vs_img_geocoords(csv_file, img_file)\n",
    "print(is_within_bounds)\n"
   ],
   "metadata": {
    "collapsed": false
   }
  },
  {
   "cell_type": "code",
   "execution_count": null,
   "outputs": [],
   "source": [
    "import pandas as pd\n",
    "\n",
    "img_csv = \"C:\\\\Users\\kb_f5\\Documents\\Coding\\CreateCsvBounding\\\\bounding_shouldbeworking2.csv\"\n",
    "df = pd.read_csv(img_csv)\n",
    "if df.loc[2][1] == 819.4885651143313:\n",
    "    print(\"Yes it is equal to 819.4885651143313\")\n",
    "else: print(\"No it is not equal to 819.4885651143313\")\n",
    "\n",
    "# [row][col]"
   ],
   "metadata": {
    "collapsed": false
   }
  },
  {
   "cell_type": "code",
   "execution_count": null,
   "outputs": [],
   "source": [],
   "metadata": {
    "collapsed": false
   }
  }
 ],
 "metadata": {
  "kernelspec": {
   "display_name": "Python 3",
   "language": "python",
   "name": "python3"
  },
  "language_info": {
   "codemirror_mode": {
    "name": "ipython",
    "version": 2
   },
   "file_extension": ".py",
   "mimetype": "text/x-python",
   "name": "python",
   "nbconvert_exporter": "python",
   "pygments_lexer": "ipython2",
   "version": "2.7.6"
  }
 },
 "nbformat": 4,
 "nbformat_minor": 0
}
