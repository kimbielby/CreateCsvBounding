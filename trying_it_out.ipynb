{
 "cells": [
  {
   "cell_type": "code",
   "execution_count": null,
   "metadata": {
    "collapsed": true
   },
   "outputs": [],
   "source": [
    "import from_geojson_to_csv as fae\n",
    "\n",
    "# CREATE CSV FILE FOR TRAINING FROM IMAGE AND GEOJSON FILE\n",
    "fae.here_we_go(\"Tree_Labels.geojson\", \"shouldbeworking2-sansBoxes.tif\", \"bounding_shouldbeworking2.csv\")\n",
    "# TODO: How to save csv in Data package instead of in objectdetect package?\n",
    "#  todo: Maybe changing root_dir to Data will work?\n"
   ]
  },
  {
   "cell_type": "code",
   "execution_count": null,
   "outputs": [],
   "source": [
    "import from_geojson_to_csv as fae\n",
    "\n",
    "# CREATE CSV FILE FOR VALIDATION FROM IMAGE AND GEOJSON FILE\n",
    "fae.here_we_go(\"Data/Tree_Labels.geojson\", \"Data/toValidate.tif\", \"bounding_toValidate.csv\")"
   ],
   "metadata": {
    "collapsed": false
   }
  },
  {
   "cell_type": "code",
   "execution_count": null,
   "outputs": [],
   "source": [
    "# CHECK THE GEO-COORDINATES OF THE IMAGE BOUNDARIES\n",
    "import from_geojson_to_csv as fae\n",
    "\n",
    "img = \"\"\n",
    "xmin, xmax, ymax, ymin = fae.get_geo_coords_boundaries(img)"
   ],
   "metadata": {
    "collapsed": false
   }
  },
  {
   "cell_type": "code",
   "execution_count": null,
   "outputs": [],
   "source": [
    "# TODO: Do I need to read in the image file first?\n",
    "# todo: Should I just print the height and width?\n",
    "# CHECK THE HEIGHT AND WIDTH OF IMAGE IN PIXELS\n",
    "img_file = \"\"\n",
    "img_px_height = img_file.height\n"
   ],
   "metadata": {
    "collapsed": false
   }
  },
  {
   "cell_type": "code",
   "execution_count": null,
   "outputs": [],
   "source": [
    "# CHECK THAT ALL BOUNDING BOXES ARE WITHIN GEO-COORDINATES OF IMAGE\n",
    "import from_geojson_to_csv as fae\n",
    "\n",
    "csv_file = \"\"\n",
    "img_file = \"\"\n",
    "is_within_bounds = fae.check_bboxes_vs_img_geocoords(csv_file, img_file)\n"
   ],
   "metadata": {
    "collapsed": false
   }
  }
 ],
 "metadata": {
  "kernelspec": {
   "display_name": "Python 3",
   "language": "python",
   "name": "python3"
  },
  "language_info": {
   "codemirror_mode": {
    "name": "ipython",
    "version": 2
   },
   "file_extension": ".py",
   "mimetype": "text/x-python",
   "name": "python",
   "nbconvert_exporter": "python",
   "pygments_lexer": "ipython2",
   "version": "2.7.6"
  }
 },
 "nbformat": 4,
 "nbformat_minor": 0
}
