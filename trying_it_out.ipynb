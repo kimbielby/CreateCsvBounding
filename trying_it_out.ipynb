{
 "cells": [
  {
   "cell_type": "code",
   "execution_count": 1,
   "metadata": {
    "collapsed": true
   },
   "outputs": [],
   "source": [
    "# import from_geojson_to_csv as fae\n",
    "import from_geojson_to_csv_digimap as conv\n",
    "\n",
    "# CREATE CSV FILE FOR TRAINING FROM IMAGE AND GEOJSON FILE\n",
    "conv.here_we_go(\"OakBounding1.geojson\", \"demo_image_for_training1-sansBoxes.tif\", \"bounding_demoTraining1.csv\", \"fcode\", \"Tree\")\n",
    "# TODO: How to save csv in Data package instead of in objectdetect package?\n",
    "#  todo: Maybe changing root_dir to Data will work?\n"
   ]
  },
  {
   "cell_type": "code",
   "execution_count": 1,
   "outputs": [],
   "source": [
    "# import from_geojson_to_csv as fae\n",
    "import from_geojson_to_csv_digimap as conv\n",
    "\n",
    "# CREATE CSV FILE FOR VALIDATION FROM IMAGE AND GEOJSON FILE\n",
    "conv.here_we_go(\"OakBounding1.geojson\", \"demo_image_for_validation1-sansBoxes.tif\", \"bounding_demoVal1.csv\", \"fcode\", \"Tree\")\n"
   ],
   "metadata": {
    "collapsed": false
   }
  },
  {
   "cell_type": "markdown",
   "source": [],
   "metadata": {
    "collapsed": false
   }
  },
  {
   "cell_type": "code",
   "execution_count": null,
   "outputs": [],
   "source": [
    "# CHECK THE GEO-COORDINATES OF THE IMAGE BOUNDARIES\n",
    "import from_geojson_to_csv as fae\n",
    "\n",
    "img = \"C:\\\\Users\\kb_f5\\Documents\\Coding\\CreateCsvBounding\\shouldbeworking2-sansBoxes.tif\"\n",
    "xmin, xmax, ymax, ymin = fae.get_geo_coords_boundaries(img)\n",
    "# Print the geo-coordinate boundaries of the image\n",
    "# print(\"xmin: \", xmin, \"xmax: \", xmax, \"ymax: \", ymax, \"ymin: \", ymin)\n",
    "\n",
    "\n",
    "# CHECK THE XMIN ETC FOR EACH BOUNDING BOX WITHIN IMAGE GEO-COORD BOUNDARIES\n",
    "import from_geojson_to_csv as fae\n",
    "\n",
    "# Get the list of possible UUIDs and open the geojson file\n",
    "poss_uuid, tree_annot = fae.get_valid_uuid(\"Tree_Labels.geojson\", \"shouldbeworking2-sansBoxes.tif\")\n",
    "# Get the list of geo-coordinates for each bounding box in image\n",
    "full_coords_L = fae.get_uuid_coords(poss_uuid, tree_annot)\n",
    "# Produce a list of these geo-coordinates in format of 'image_path (name of image); xmin; ymin; xmax; ymax; label (e.g. 'Tree')'\n",
    "fae.lists_for_csv(\"shouldbeworking2-sansBoxes.tif\", full_coords_L)\n",
    "formatted_list = fae.get_contents_of_list_for_csv()\n",
    "# Get the above list and print it\n",
    "# print(formatted_list)\n",
    "\n",
    "print(fae.check_bboxes_vs_img_geocoords(formatted_list, xmin, xmax, ymin, ymax))\n"
   ],
   "metadata": {
    "collapsed": false
   }
  },
  {
   "cell_type": "markdown",
   "source": [],
   "metadata": {
    "collapsed": false
   }
  },
  {
   "cell_type": "code",
   "execution_count": null,
   "outputs": [],
   "source": [
    "# TODO: Should I just print the height and width?\n",
    "import rasterio as rio\n",
    "# CHECK THE HEIGHT AND WIDTH OF IMAGE IN PIXELS\n",
    "the_image = rio.open(\"\")\n",
    "img_width_px = the_image.width  # Width of image in pixels\n",
    "img_height_px = the_image.height  # Height of image in pixels\n"
   ],
   "metadata": {
    "collapsed": false
   }
  },
  {
   "cell_type": "markdown",
   "source": [],
   "metadata": {
    "collapsed": false
   }
  },
  {
   "cell_type": "code",
   "execution_count": null,
   "outputs": [],
   "source": [
    "# CHECK THAT ALL BOUNDING BOXES ARE WITHIN GEO-COORDINATES OF IMAGE\n",
    "import from_geojson_to_csv as fae\n",
    "\n",
    "# Csv file only stores pixel coords for bounding boxes\n",
    "csv_file = \"C:\\\\Users\\kb_f5\\Documents\\Coding\\CreateCsvBounding\\\\bounding_shouldbeworking2.csv\"\n",
    "# Should be able to extract both pixel and geo-coords from image\n",
    "img_file = \"C:\\\\Users\\kb_f5\\Documents\\Coding\\CreateCsvBounding\\shouldbeworking2-sansBoxes.tif\"\n",
    "\n",
    "print(fae.check_bboxes_vs_img_geocoords(csv_file, img_file))\n"
   ],
   "metadata": {
    "collapsed": false
   }
  },
  {
   "cell_type": "markdown",
   "source": [],
   "metadata": {
    "collapsed": false
   }
  },
  {
   "cell_type": "code",
   "execution_count": null,
   "outputs": [],
   "source": [
    "import pandas as pd\n",
    "\n",
    "img_csv = \"C:\\\\Users\\kb_f5\\Documents\\Coding\\CreateCsvBounding\\\\bounding_shouldbeworking2.csv\"\n",
    "df = pd.read_csv(img_csv)\n",
    "if df.loc[2][1] == 819.4885651143313:\n",
    "    print(\"Yes it is equal to 819.4885651143313\")\n",
    "else: print(\"No it is not equal to 819.4885651143313\")\n",
    "\n",
    "# [row][col]"
   ],
   "metadata": {
    "collapsed": false
   }
  },
  {
   "cell_type": "code",
   "execution_count": null,
   "outputs": [],
   "source": [],
   "metadata": {
    "collapsed": false
   }
  }
 ],
 "metadata": {
  "kernelspec": {
   "display_name": "Python 3",
   "language": "python",
   "name": "python3"
  },
  "language_info": {
   "codemirror_mode": {
    "name": "ipython",
    "version": 2
   },
   "file_extension": ".py",
   "mimetype": "text/x-python",
   "name": "python",
   "nbconvert_exporter": "python",
   "pygments_lexer": "ipython2",
   "version": "2.7.6"
  }
 },
 "nbformat": 4,
 "nbformat_minor": 0
}
